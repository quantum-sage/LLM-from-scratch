{
 "cells": [
  {
   "cell_type": "code",
   "execution_count": 13,
   "metadata": {},
   "outputs": [],
   "source": [
    "import os, urllib\n",
    "import tiktoken\n",
    "import torch \n",
    "from torch.utils.data import Dataset, DataLoader"
   ]
  },
  {
   "cell_type": "code",
   "execution_count": 8,
   "metadata": {},
   "outputs": [
    {
     "name": "stdout",
     "output_type": "stream",
     "text": [
      "[33901, 86, 343, 86, 220, 959]\n",
      "['Ak', 'w', 'ir', 'w', ' ', 'ier']\n"
     ]
    }
   ],
   "source": [
    "tokenizer = tiktoken.get_encoding(\"gpt2\")\n",
    "text = \"Akwirw ier\"\n",
    "encode = tokenizer.encode(text)\n",
    "decode = [tokenizer.decode([i]) for i in encode]\n",
    "print(encode)\n",
    "print(decode)"
   ]
  },
  {
   "cell_type": "code",
   "execution_count": 11,
   "metadata": {},
   "outputs": [
    {
     "name": "stdout",
     "output_type": "stream",
     "text": [
      "33901 --> Ak\n",
      "86 --> w\n",
      "343 --> ir\n",
      "86 --> w\n",
      "220 -->  \n",
      "959 --> ier\n"
     ]
    }
   ],
   "source": [
    "for i in range(len(encode)):\n",
    "    print(f\"{encode[i]} --> {decode[i]}\")"
   ]
  },
  {
   "cell_type": "code",
   "execution_count": 31,
   "metadata": {},
   "outputs": [],
   "source": [
    "class GPTDataset(Dataset):\n",
    "    def __init__(self, text, tokenizer, max_length, stride):\n",
    "        self.input_ids = []\n",
    "        self.target_ids = []\n",
    "        token_ids = tokenizer.encode(text, allowed_special={\"<|endoftext|>\"})\n",
    "        for i in range(0,len(token_ids)-max_length, stride):\n",
    "            inputs = token_ids[i:i+max_length]\n",
    "            targets = token_ids[i+1:i+max_length+1]\n",
    "            self.input_ids.append(torch.tensor(inputs))\n",
    "            self.target_ids.append(torch.tensor(targets))\n",
    "\n",
    "    def __len__(self):\n",
    "        return len(self.input_ids)\n",
    "    \n",
    "    def __getitem__(self, index):\n",
    "        return self.input_ids[index], self.target_ids[index]\n",
    "        \n",
    "\n",
    "def create_dataloader(text,batch_size = 4,max_length = 256 , stride=128):\n",
    "    tokenizer = tiktoken.get_encoding('gpt2')\n",
    "    dataset = GPTDataset(text,tokenizer,max_length,stride)\n",
    "    dataloader = DataLoader(dataset, batch_size)\n",
    "    return dataloader\n"
   ]
  },
  {
   "cell_type": "code",
   "execution_count": 37,
   "metadata": {},
   "outputs": [
    {
     "data": {
      "text/plain": [
       "'\\ntokenizer = tiktoken.get_encoding(\"gpt2\")\\nencoded_text = tokenizer.encode(text)\\n\\nvocab_size = 50257\\noutput_dim = 256\\nmax_len = 4\\ncontext_length = max_len\\n\\ntoken_embedding_layer = torch.nn.Embedding(context_length, output_dim)\\npos_embedding_layer = torch.nn.Embedding(vocab_size, output_dim)\\n'"
      ]
     },
     "execution_count": 37,
     "metadata": {},
     "output_type": "execute_result"
    }
   ],
   "source": [
    "with open(\"the-verdict.txt\",\"r\", encoding=\"utf-8\") as f:\n",
    "    text = f.read()\n",
    "\"\"\"\n",
    "tokenizer = tiktoken.get_encoding(\"gpt2\")\n",
    "encoded_text = tokenizer.encode(text)\n",
    "\n",
    "vocab_size = 50257\n",
    "output_dim = 256\n",
    "max_len = 4\n",
    "context_length = max_len\n",
    "\n",
    "token_embedding_layer = torch.nn.Embedding(context_length, output_dim)\n",
    "pos_embedding_layer = torch.nn.Embedding(vocab_size, output_dim)\n",
    "\"\"\""
   ]
  },
  {
   "cell_type": "code",
   "execution_count": 39,
   "metadata": {},
   "outputs": [
    {
     "data": {
      "text/plain": [
       "tensor([[  40,  367],\n",
       "        [2885, 1464],\n",
       "        [1807, 3619],\n",
       "        [ 402,  271]])"
      ]
     },
     "execution_count": 39,
     "metadata": {},
     "output_type": "execute_result"
    }
   ],
   "source": [
    "dataloader = create_dataloader(text, batch_size=4, max_length=2,stride = 2)\n",
    "for batch in dataloader:\n",
    "    x,y = batch \n",
    "    break\n",
    "x"
   ]
  },
  {
   "cell_type": "code",
   "execution_count": 40,
   "metadata": {},
   "outputs": [
    {
     "data": {
      "text/plain": [
       "tensor([[   40,   367,  2885,  1464,  1807,  3619,   402,   271],\n",
       "        [ 2885,  1464,  1807,  3619,   402,   271, 10899,  2138],\n",
       "        [ 1807,  3619,   402,   271, 10899,  2138,   257,  7026],\n",
       "        [  402,   271, 10899,  2138,   257,  7026, 15632,   438]])"
      ]
     },
     "execution_count": 40,
     "metadata": {},
     "output_type": "execute_result"
    }
   ],
   "source": [
    "dataloader = create_dataloader(text, batch_size=4, max_length=8, stride=2)\n",
    "\n",
    "for batch in dataloader:\n",
    "    x, y = batch\n",
    "    break\n",
    "\n",
    "x"
   ]
  },
  {
   "cell_type": "code",
   "execution_count": null,
   "metadata": {},
   "outputs": [],
   "source": []
  }
 ],
 "metadata": {
  "kernelspec": {
   "display_name": "reward_agents",
   "language": "python",
   "name": "python3"
  },
  "language_info": {
   "codemirror_mode": {
    "name": "ipython",
    "version": 3
   },
   "file_extension": ".py",
   "mimetype": "text/x-python",
   "name": "python",
   "nbconvert_exporter": "python",
   "pygments_lexer": "ipython3",
   "version": "3.12.6"
  }
 },
 "nbformat": 4,
 "nbformat_minor": 2
}
